{
 "cells": [
  {
   "cell_type": "code",
   "execution_count": 2,
   "id": "b12f0a69-603e-44c6-838e-daf194ee255b",
   "metadata": {},
   "outputs": [],
   "source": [
    "import numpy as np"
   ]
  },
  {
   "cell_type": "code",
   "execution_count": 3,
   "id": "0ef2daad-d366-403c-bf05-53de6a686c7c",
   "metadata": {},
   "outputs": [
    {
     "name": "stdout",
     "output_type": "stream",
     "text": [
      "[90 18 63 85 35 53 34 23 61  9 50  9 85 45 73]\n",
      "[[66 76 81  3]\n",
      " [62 46 22 31]\n",
      " [75 91 71 43]\n",
      " [92 37 36 97]\n",
      " [93 81 72 52]\n",
      " [16 78 36 51]]\n"
     ]
    }
   ],
   "source": [
    "#np.sort\n",
    "a=np.random.randint(1,100,15)\n",
    "b=np.random.randint(1,100,24).reshape(6,4)\n",
    "print(a)\n",
    "print(b)"
   ]
  },
  {
   "cell_type": "code",
   "execution_count": 4,
   "id": "898c1518-232b-46b9-a88b-45ed777a492d",
   "metadata": {},
   "outputs": [
    {
     "data": {
      "text/plain": [
       "array([ 9,  9, 18, 23, 34, 35, 45, 50, 53, 61, 63, 73, 85, 85, 90])"
      ]
     },
     "execution_count": 4,
     "metadata": {},
     "output_type": "execute_result"
    }
   ],
   "source": [
    "np.sort(a)  #ascending sort"
   ]
  },
  {
   "cell_type": "code",
   "execution_count": 5,
   "id": "b5941500-76d7-407d-ab81-409975aa241d",
   "metadata": {},
   "outputs": [
    {
     "data": {
      "text/plain": [
       "array([90, 85, 85, 73, 63, 61, 53, 50, 45, 35, 34, 23, 18,  9,  9])"
      ]
     },
     "execution_count": 5,
     "metadata": {},
     "output_type": "execute_result"
    }
   ],
   "source": [
    "np.sort(a)[::-1]  #descending sort"
   ]
  },
  {
   "cell_type": "code",
   "execution_count": 6,
   "id": "bb15078b-3057-42e9-af97-bd496c39b491",
   "metadata": {},
   "outputs": [
    {
     "data": {
      "text/plain": [
       "array([[ 3, 66, 76, 81],\n",
       "       [22, 31, 46, 62],\n",
       "       [43, 71, 75, 91],\n",
       "       [36, 37, 92, 97],\n",
       "       [52, 72, 81, 93],\n",
       "       [16, 36, 51, 78]])"
      ]
     },
     "execution_count": 6,
     "metadata": {},
     "output_type": "execute_result"
    }
   ],
   "source": [
    "np.sort(b) #rowise sorting"
   ]
  },
  {
   "cell_type": "code",
   "execution_count": 8,
   "id": "03ebf377-a90e-440d-bdb1-1305dde15054",
   "metadata": {},
   "outputs": [
    {
     "data": {
      "text/plain": [
       "array([[16, 37, 22,  3],\n",
       "       [62, 46, 36, 31],\n",
       "       [66, 76, 36, 43],\n",
       "       [75, 78, 71, 51],\n",
       "       [92, 81, 72, 52],\n",
       "       [93, 91, 81, 97]])"
      ]
     },
     "execution_count": 8,
     "metadata": {},
     "output_type": "execute_result"
    }
   ],
   "source": [
    "np.sort(b,axis=0) #column sorting"
   ]
  },
  {
   "cell_type": "code",
   "execution_count": 9,
   "id": "dd99d074-247c-490a-b473-959d970171a9",
   "metadata": {},
   "outputs": [
    {
     "data": {
      "text/plain": [
       "array([ 90,  18,  63,  85,  35,  53,  34,  23,  61,   9,  50,   9,  85,\n",
       "        45,  73, 200])"
      ]
     },
     "execution_count": 9,
     "metadata": {},
     "output_type": "execute_result"
    }
   ],
   "source": [
    "#np.append-append values at the end of the array\n",
    "np.append(a,200)"
   ]
  },
  {
   "cell_type": "code",
   "execution_count": 10,
   "id": "9178c594-d61d-45ba-85af-67062695dc7a",
   "metadata": {},
   "outputs": [
    {
     "data": {
      "text/plain": [
       "array([[66, 76, 81,  3],\n",
       "       [62, 46, 22, 31],\n",
       "       [75, 91, 71, 43],\n",
       "       [92, 37, 36, 97],\n",
       "       [93, 81, 72, 52],\n",
       "       [16, 78, 36, 51]])"
      ]
     },
     "execution_count": 10,
     "metadata": {},
     "output_type": "execute_result"
    }
   ],
   "source": [
    " b"
   ]
  },
  {
   "cell_type": "code",
   "execution_count": 12,
   "id": "348d6977-3bbd-4be7-8095-60de187ee53a",
   "metadata": {},
   "outputs": [
    {
     "data": {
      "text/plain": [
       "array([[66., 76., 81.,  3.,  1.],\n",
       "       [62., 46., 22., 31.,  1.],\n",
       "       [75., 91., 71., 43.,  1.],\n",
       "       [92., 37., 36., 97.,  1.],\n",
       "       [93., 81., 72., 52.,  1.],\n",
       "       [16., 78., 36., 51.,  1.]])"
      ]
     },
     "execution_count": 12,
     "metadata": {},
     "output_type": "execute_result"
    }
   ],
   "source": [
    "np.append(b,np.ones((b.shape[0],1)),axis=1) #append columns"
   ]
  },
  {
   "cell_type": "code",
   "execution_count": 13,
   "id": "9ae0a8ef-3f87-4f84-a39c-3dbf77eeb292",
   "metadata": {},
   "outputs": [
    {
     "name": "stdout",
     "output_type": "stream",
     "text": [
      "[[0 1 2]\n",
      " [3 4 5]]\n",
      "[[ 6  7  8]\n",
      " [ 9 10 11]]\n"
     ]
    }
   ],
   "source": [
    "#np.concatenate()--concatenate a sequence of arrays along an existing axis\n",
    "c=np.arange(6).reshape(2,3)\n",
    "d=np.arange(6,12).reshape(2,3)\n",
    "print(c)\n",
    "print(d)\n"
   ]
  },
  {
   "cell_type": "code",
   "execution_count": 18,
   "id": "67308955-5cf3-4a58-9d67-35eed5029a57",
   "metadata": {},
   "outputs": [
    {
     "name": "stdout",
     "output_type": "stream",
     "text": [
      "[[ 0  1  2]\n",
      " [ 3  4  5]\n",
      " [ 6  7  8]\n",
      " [ 9 10 11]]\n",
      "[[ 0  1  2  6  7  8]\n",
      " [ 3  4  5  9 10 11]]\n"
     ]
    }
   ],
   "source": [
    "print(np.concatenate((c,d),axis=0)) # concatenate rowise\n",
    "print(np.concatenate((c,d),axis=1)) # concatenate columnwise"
   ]
  },
  {
   "cell_type": "code",
   "execution_count": 21,
   "id": "11e0b8d4-3da9-4fdd-8048-274ec4c15fb3",
   "metadata": {},
   "outputs": [
    {
     "data": {
      "text/plain": [
       "array([ 1,  2,  3,  4,  5,  6,  7,  8, 11])"
      ]
     },
     "execution_count": 21,
     "metadata": {},
     "output_type": "execute_result"
    }
   ],
   "source": [
    "#np.unique--we can get hte unique valuesfrom an array as parameter in np.unique() method.\n",
    "e=np.array([11,1,1,2,3,4,5,8,5,6,7])\n",
    "np.unique(e)"
   ]
  },
  {
   "cell_type": "code",
   "execution_count": 30,
   "id": "b172f088-0b4a-4569-8efa-3c58b4d7976c",
   "metadata": {},
   "outputs": [
    {
     "name": "stdout",
     "output_type": "stream",
     "text": [
      "[90 18 63 85 35 53 34 23 61  9 50  9 85 45 73]\n",
      "(15,)\n",
      "[[90 18 63 85 35 53 34 23 61  9 50  9 85 45 73]]\n",
      "(1, 15)\n",
      "[[90]\n",
      " [18]\n",
      " [63]\n",
      " [85]\n",
      " [35]\n",
      " [53]\n",
      " [34]\n",
      " [23]\n",
      " [61]\n",
      " [ 9]\n",
      " [50]\n",
      " [ 9]\n",
      " [85]\n",
      " [45]\n",
      " [73]]\n"
     ]
    }
   ],
   "source": [
    "#np.expand_dims---we can get the expanded dimension of an array\n",
    "print(a)\n",
    "print(a.shape)\n",
    "b=np.expand_dims(a,axis=0)\n",
    "print(b)\n",
    "print(b.shape)\n",
    "b=np.expand_dims(a,axis=1)\n",
    "print(b)"
   ]
  },
  {
   "cell_type": "code",
   "execution_count": 31,
   "id": "c0edcc96-d7c3-4a0d-ad5a-5ed10b5fbce3",
   "metadata": {},
   "outputs": [
    {
     "name": "stdout",
     "output_type": "stream",
     "text": [
      "[90 18 63 85 35 53 34 23 61  9 50  9 85 45 73]\n"
     ]
    },
    {
     "data": {
      "text/plain": [
       "(array([ 0,  2,  3,  5,  8, 12, 14], dtype=int64),)"
      ]
     },
     "execution_count": 31,
     "metadata": {},
     "output_type": "execute_result"
    }
   ],
   "source": [
    "#np.where()-returns the indices of elements in an input array where the given condition is satisfied.\n",
    "print(a)\n",
    "np.where(a>50)"
   ]
  },
  {
   "cell_type": "code",
   "execution_count": 33,
   "id": "390b4d8c-d338-4665-b372-aebf8cf3db69",
   "metadata": {},
   "outputs": [
    {
     "name": "stdout",
     "output_type": "stream",
     "text": [
      "[ 0 18  0  0 35  0 34 23  0  9 50  9  0 45  0]\n",
      "[ 0  0 63 85 35 53  0 23 61  9  0  9 85 45 73]\n"
     ]
    }
   ],
   "source": [
    "#np.where() Syntax-------np.where(consition,true,false)\n",
    "#replace all values >50 with 0\n",
    "print(np.where(a>50,0,a))\n",
    "print(np.where(a%2==0,0,a))\n"
   ]
  },
  {
   "cell_type": "code",
   "execution_count": 45,
   "id": "3a7d3db9-ace9-405e-b6d4-67100f2edf6a",
   "metadata": {},
   "outputs": [
    {
     "name": "stdout",
     "output_type": "stream",
     "text": [
      "[90 18 63 85 35 53 34 23 61  9 50  9 85 45 73]\n",
      "0\n",
      "[[18 15 33 68 25]\n",
      " [58 63 43 39  2]\n",
      " [79 75 84 62  1]\n",
      " [95 82 43  5 36]\n",
      " [ 7 32 95 35 92]]\n",
      "[3 1 2 0 2]\n",
      "[3 3 4 0 4]\n"
     ]
    }
   ],
   "source": [
    "#np.argmax()--returns indices of the max element of the array in a particular axis\n",
    "print(a)\n",
    "print(np.argmax(a))\n",
    "c=np.random.randint(1,100,25).reshape(5,5)\n",
    "print(c)\n",
    "print(np.argmax(c,axis=1)) #row wise\n",
    "print(np.argmax(c,axis=0)) #column wise"
   ]
  },
  {
   "cell_type": "code",
   "execution_count": 46,
   "id": "4daac586-a586-4f78-b3ec-706ff71eaa32",
   "metadata": {},
   "outputs": [
    {
     "name": "stdout",
     "output_type": "stream",
     "text": [
      "[90 18 63 85 35 53 34 23 61  9 50  9 85 45 73]\n",
      "9\n",
      "[[28 94 77 86 67]\n",
      " [66 56 50 87 84]\n",
      " [53 24  2 64 67]\n",
      " [23 87 56 68 85]\n",
      " [66 54 36 61 74]]\n",
      "[0 2 2 0 2]\n",
      "[3 2 2 4 0]\n"
     ]
    }
   ],
   "source": [
    "#np.argmin()--returns indices of the min element of the array in a particular axis\n",
    "print(a)\n",
    "print(np.argmin(a))\n",
    "c=np.random.randint(1,100,25).reshape(5,5)\n",
    "print(c)\n",
    "print(np.argmin(c,axis=1)) #row wise\n",
    "print(np.argmin(c,axis=0)) #column wise"
   ]
  },
  {
   "cell_type": "code",
   "execution_count": 51,
   "id": "e0e91c37-f3b0-4b4d-9753-0d5cd8cb9f1e",
   "metadata": {},
   "outputs": [
    {
     "name": "stdout",
     "output_type": "stream",
     "text": [
      "[90 18 63 85 35 53 34 23 61  9 50  9 85 45 73]\n",
      "[[28 94 77 86 67]\n",
      " [66 56 50 87 84]\n",
      " [53 24  2 64 67]\n",
      " [23 87 56 68 85]\n",
      " [66 54 36 61 74]]\n",
      "[[ 28  94  77  86  67]\n",
      " [ 94 150 127 173 151]\n",
      " [147 174 129 237 218]\n",
      " [170 261 185 305 303]\n",
      " [236 315 221 366 377]]\n",
      "[[ 28 122 199 285 352]\n",
      " [ 66 122 172 259 343]\n",
      " [ 53  77  79 143 210]\n",
      " [ 23 110 166 234 319]\n",
      " [ 66 120 156 217 291]]\n"
     ]
    }
   ],
   "source": [
    "#np.cumsum()--mean cummulative sum\n",
    "# this function used to cumulative sum of array elements over a given axis\n",
    "print(a)\n",
    "np.cumsum(a)\n",
    "print(c)\n",
    "print(np.cumsum(c,axis=0)) #column wise\n",
    "print(np.cumsum(c,axis=1)) #row wise"
   ]
  },
  {
   "cell_type": "code",
   "execution_count": 53,
   "id": "fe6df97a-1ea5-4961-8ae9-4cafff950fdc",
   "metadata": {},
   "outputs": [
    {
     "name": "stdout",
     "output_type": "stream",
     "text": [
      "[90 18 63 85 35 53 34 23 61  9 50  9 85 45 73]\n"
     ]
    },
    {
     "data": {
      "text/plain": [
       "array([         90,        1620,      102060,     8675100,   303628500,\n",
       "       -1087558684,  1677710408,   -67366280,   185624216,  1670617944,\n",
       "        1926518576,   158798000,   612928112,  1811961264,  -870813904])"
      ]
     },
     "execution_count": 53,
     "metadata": {},
     "output_type": "execute_result"
    }
   ],
   "source": [
    "#np.cumprod()-- gives cumulative product\n",
    "print(a)\n",
    "np.cumprod(a)"
   ]
  },
  {
   "cell_type": "code",
   "execution_count": 59,
   "id": "4d4b107b-d54f-4ef9-952b-22976f4ad286",
   "metadata": {},
   "outputs": [
    {
     "name": "stdout",
     "output_type": "stream",
     "text": [
      "[90 18 63 85 35 53 34 23 61  9 50  9 85 45 73]\n",
      "9.0\n",
      "50.0\n",
      "90.0\n",
      "68.0\n"
     ]
    }
   ],
   "source": [
    "#np.percentile()--compute the nth percentile of the given data along specified axis\n",
    "print(a)\n",
    "print(np.percentile(a,0))\n",
    "print(np.percentile(a,50))\n",
    "print(np.percentile(a,100))\n",
    "print(np.percentile(a,75))"
   ]
  },
  {
   "cell_type": "code",
   "execution_count": 63,
   "id": "34ade6f5-6aa6-47c1-a290-c9103abfada9",
   "metadata": {},
   "outputs": [
    {
     "name": "stdout",
     "output_type": "stream",
     "text": [
      "[90 18 63 85 35 53 34 23 61  9 50  9 85 45 73]\n",
      "(array([2, 1, 1, 2, 1, 2, 2, 1, 2, 1], dtype=int64), array([  0,  10,  20,  30,  40,  50,  60,  70,  80,  90, 100]))\n",
      "(array([7, 8], dtype=int64), array([  0,  50, 100]))\n"
     ]
    }
   ],
   "source": [
    "#np.histogram()--built in function which represents the frequency of data distribution in the graphical form.\n",
    "print(a)\n",
    "print(np.histogram(a,bins=[0,10,20,30,40,50,60,70,80,90,100]))\n",
    "print(np.histogram(a,bins=[0,50,100]))"
   ]
  },
  {
   "cell_type": "code",
   "execution_count": 65,
   "id": "a0ff800b-ad45-4ed4-89f9-8fcbc86a9ca8",
   "metadata": {},
   "outputs": [
    {
     "data": {
      "text/plain": [
       "array([[1.        , 0.56940578],\n",
       "       [0.56940578, 1.        ]])"
      ]
     },
     "execution_count": 65,
     "metadata": {},
     "output_type": "execute_result"
    }
   ],
   "source": [
    "#np.corrcoef()--return person product-moment correlation coefficients\n",
    "salary=np.array([2000,4000,6000,5600,4200])\n",
    "experience=np.array([1,2,4,1,2])\n",
    "np.corrcoef(salary,experience)"
   ]
  },
  {
   "cell_type": "code",
   "execution_count": 68,
   "id": "23b00b6e-f37e-4315-acbf-72c43d019db1",
   "metadata": {},
   "outputs": [
    {
     "name": "stdout",
     "output_type": "stream",
     "text": [
      "[90 18 63 85 35 53 34 23 61  9 50  9 85 45 73]\n",
      "[90 50]\n"
     ]
    }
   ],
   "source": [
    "#np.isin()--we can see that one array having values are checked in a different numpy array having different elements with different sizes\n",
    "print(a)\n",
    "items=[10,20,40,50,90,100]\n",
    "np.isin(a,items)\n",
    "print(a[np.isin(a,items)])"
   ]
  },
  {
   "cell_type": "code",
   "execution_count": 72,
   "id": "d579723b-dd2e-4f9e-a697-14d7a236ee3f",
   "metadata": {},
   "outputs": [
    {
     "name": "stdout",
     "output_type": "stream",
     "text": [
      "[90 18 63 85 35 53 34 23 61  9 50  9 85 45 73]\n",
      "[73 45 85  9 50  9 61 23 34 53 35 85 63 18 90]\n",
      "[[28 94 77 86 67]\n",
      " [66 56 50 87 84]\n",
      " [53 24  2 64 67]\n",
      " [23 87 56 68 85]\n",
      " [66 54 36 61 74]]\n",
      "[[66 54 36 61 74]\n",
      " [23 87 56 68 85]\n",
      " [53 24  2 64 67]\n",
      " [66 56 50 87 84]\n",
      " [28 94 77 86 67]]\n"
     ]
    }
   ],
   "source": [
    "#np.flip()---reverses the order of array elements along the specified axis,preserving the shape of the array.\n",
    "print(a)\n",
    "print(np.flip(a))\n",
    "print(c)\n",
    "print(np.flip(c,axis=0))  #column wise"
   ]
  },
  {
   "cell_type": "code",
   "execution_count": 76,
   "id": "e8aef696-2c2f-4b24-9a54-2440c05d58d0",
   "metadata": {},
   "outputs": [
    {
     "name": "stdout",
     "output_type": "stream",
     "text": [
      "[ 1  2  3  4  5  6 78  9]\n",
      "None\n"
     ]
    }
   ],
   "source": [
    "#np.put()--replaces specific elements of an array with given values .\n",
    "d=np.array([1,2,3,4,5,6,78,9])\n",
    "print(d)\n",
    "print(np.put(d,[0,2],[111,22]))#np.put changes elements permenantly in the original array"
   ]
  },
  {
   "cell_type": "code",
   "execution_count": 77,
   "id": "25084468-45a6-42aa-828d-992c802dab2a",
   "metadata": {},
   "outputs": [
    {
     "name": "stdout",
     "output_type": "stream",
     "text": [
      "[111   2  22   4   5   6  78   9]\n"
     ]
    }
   ],
   "source": [
    "print(d)"
   ]
  },
  {
   "cell_type": "code",
   "execution_count": 79,
   "id": "68de4c88-f259-427d-86a1-624ae6a32e43",
   "metadata": {},
   "outputs": [
    {
     "name": "stdout",
     "output_type": "stream",
     "text": [
      "[111   2  22   4   5   6  78   9]\n"
     ]
    },
    {
     "data": {
      "text/plain": [
       "array([111,  22,   4,   6,  78,   9])"
      ]
     },
     "execution_count": 79,
     "metadata": {},
     "output_type": "execute_result"
    }
   ],
   "source": [
    "#np.delete()--returns new array with the deletion of the array elements\n",
    "print(d)\n",
    "np.delete(d,[1,4])"
   ]
  },
  {
   "cell_type": "code",
   "execution_count": 85,
   "id": "5d75cc33-e4ee-4f6e-bce9-e9690cf22ba3",
   "metadata": {},
   "outputs": [
    {
     "name": "stdout",
     "output_type": "stream",
     "text": [
      "[1 2 3 4 5 6 7]\n",
      "[3 4 5]\n",
      "[1 2]\n",
      "[1 2 6 7]\n",
      "[False False  True False False]\n"
     ]
    }
   ],
   "source": [
    "#Set fuctions\n",
    "m=np.array([1,2,3,4,5])\n",
    "n=np.array([3,4,5,6,7])\n",
    "print(np.union1d(m,n))\n",
    "print(np.intersect1d(m,n))\n",
    "print(np.setdiff1d(m,n))\n",
    "print(np.setxor1d(m,n))\n",
    "print(np.in1d(m,3))"
   ]
  },
  {
   "cell_type": "code",
   "execution_count": 87,
   "id": "7a607bd7-fc73-481c-94b7-47c3045a6a92",
   "metadata": {},
   "outputs": [
    {
     "name": "stdout",
     "output_type": "stream",
     "text": [
      "[90 18 63 85 35 53 34 23 61  9 50  9 85 45 73]\n"
     ]
    },
    {
     "data": {
      "text/plain": [
       "array([75, 25, 63, 75, 35, 53, 34, 25, 61, 25, 50, 25, 75, 45, 73])"
      ]
     },
     "execution_count": 87,
     "metadata": {},
     "output_type": "execute_result"
    }
   ],
   "source": [
    "#np.clip() --used to clip(limit) the values in an array\n",
    "print(a)\n",
    "np.clip(a,a_min=25,a_max=75)"
   ]
  },
  {
   "cell_type": "code",
   "execution_count": null,
   "id": "a73bbe11-92cf-4668-8c50-f2ce41220fa7",
   "metadata": {},
   "outputs": [],
   "source": []
  }
 ],
 "metadata": {
  "kernelspec": {
   "display_name": "Python 3 (ipykernel)",
   "language": "python",
   "name": "python3"
  },
  "language_info": {
   "codemirror_mode": {
    "name": "ipython",
    "version": 3
   },
   "file_extension": ".py",
   "mimetype": "text/x-python",
   "name": "python",
   "nbconvert_exporter": "python",
   "pygments_lexer": "ipython3",
   "version": "3.11.5"
  }
 },
 "nbformat": 4,
 "nbformat_minor": 5
}
