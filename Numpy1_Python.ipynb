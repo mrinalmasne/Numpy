{
 "cells": [
  {
   "cell_type": "code",
   "execution_count": 2,
   "id": "d4b748a8-3e96-42ff-975f-62c6150ee784",
   "metadata": {},
   "outputs": [],
   "source": [
    "import numpy as np"
   ]
  },
  {
   "cell_type": "code",
   "execution_count": 3,
   "id": "5df696ba-4941-4ea2-a10a-071c4ee9bc0e",
   "metadata": {},
   "outputs": [
    {
     "name": "stdout",
     "output_type": "stream",
     "text": [
      "[1 2 3 4 5 6]\n",
      "<class 'numpy.ndarray'>\n"
     ]
    }
   ],
   "source": [
    "# How to create Numpy\n",
    "#1) np.array\n",
    "a=np.array([1,2,3,4,5,6])\n",
    "print(a)\n",
    "print(type(a))\n"
   ]
  },
  {
   "cell_type": "code",
   "execution_count": 8,
   "id": "f6c67565-a462-408a-92a6-3d3f4ab013e3",
   "metadata": {},
   "outputs": [
    {
     "name": "stdout",
     "output_type": "stream",
     "text": [
      "[[1 2 3]\n",
      " [4 5 6]]\n",
      "[[[1 2]\n",
      "  [3 4]\n",
      "  [5 6]]]\n"
     ]
    }
   ],
   "source": [
    "# 2D and 3D array\n",
    "b=np.array([[1,2,3],[4,5,6]])\n",
    "print(b)\n",
    "\n",
    "c=np.array([[[1,2],[3,4],[5,6]]])\n",
    "print(c)"
   ]
  },
  {
   "cell_type": "code",
   "execution_count": 7,
   "id": "419fcb14-3e1b-4a55-8a17-49080c8053e6",
   "metadata": {},
   "outputs": [
    {
     "name": "stdout",
     "output_type": "stream",
     "text": [
      "[1. 2. 3.]\n",
      "[1.+0.j 2.+0.j 3.+0.j]\n"
     ]
    }
   ],
   "source": [
    "# dtype---Datatype\n",
    "a=np.array([1,2,3],dtype=float)\n",
    "print(a)\n",
    "b=np.array([1,2,3],dtype=complex)\n",
    "print(b)"
   ]
  },
  {
   "cell_type": "code",
   "execution_count": 12,
   "id": "f36f2b4b-f34b-4cc2-8cf8-bae5386ff502",
   "metadata": {},
   "outputs": [
    {
     "name": "stdout",
     "output_type": "stream",
     "text": [
      "[ 1  2  3  4  5  6  7  8  9 10 11 12 13]\n",
      "[ 0  2  4  6  8 10 12]\n"
     ]
    }
   ],
   "source": [
    "# np.arange\n",
    "a=np.arange(1,14)\n",
    "print(a)\n",
    "b=np.arange(0,14,2)\n",
    "print(b)"
   ]
  },
  {
   "cell_type": "code",
   "execution_count": 19,
   "id": "c5af6e99-2790-4457-8f09-f0944275ba88",
   "metadata": {},
   "outputs": [
    {
     "name": "stdout",
     "output_type": "stream",
     "text": [
      "[[ 1  2]\n",
      " [ 3  4]\n",
      " [ 5  6]\n",
      " [ 7  8]\n",
      " [ 9 10]]\n",
      "[[ 1  2  3  4  5  6  7  8  9 10]\n",
      " [11 12 13 14 15 16 17 18 19 20]]\n"
     ]
    }
   ],
   "source": [
    "# with reshape--convert into rows and columns\n",
    "# reshpe is used only when products of two nos is same as end index\n",
    "a=np.arange(1,11).reshape(5,2)\n",
    "print(a)\n",
    "b=np.arange(1,21).reshape(2,10)\n",
    "print(b)"
   ]
  },
  {
   "cell_type": "code",
   "execution_count": 6,
   "id": "260ce370-b21f-47f2-9359-3d46b258f762",
   "metadata": {},
   "outputs": [
    {
     "name": "stdout",
     "output_type": "stream",
     "text": [
      "[[1. 1. 1. 1. 1.]\n",
      " [1. 1. 1. 1. 1.]\n",
      " [1. 1. 1. 1. 1.]\n",
      " [1. 1. 1. 1. 1.]]\n",
      "[[0. 0. 0. 0.]\n",
      " [0. 0. 0. 0.]]\n"
     ]
    }
   ],
   "source": [
    "#np.ones and np.zeroes  ----used to initialized fastly.\n",
    "a=np.ones((4,5))\n",
    "print(a)\n",
    "b=np.zeros((2,4))\n",
    "print(b)"
   ]
  },
  {
   "cell_type": "code",
   "execution_count": 7,
   "id": "7bf77e8d-e461-466b-bd6c-0670ef4a3acb",
   "metadata": {},
   "outputs": [
    {
     "data": {
      "text/plain": [
       "array([[0.40831499, 0.59903823, 0.98970234],\n",
       "       [0.55335878, 0.53317609, 0.08813069]])"
      ]
     },
     "execution_count": 7,
     "metadata": {},
     "output_type": "execute_result"
    }
   ],
   "source": [
    "#np.random ----used to generate random numbers between 0 to 1\n",
    "np.random.random((2,3))\n"
   ]
  },
  {
   "cell_type": "code",
   "execution_count": 8,
   "id": "4adf7ba1-3961-4e45-aad5-09dc9bf65358",
   "metadata": {},
   "outputs": [
    {
     "data": {
      "text/plain": [
       "array([-1.  ,  1.75,  4.5 ,  7.25, 10.  ])"
      ]
     },
     "execution_count": 8,
     "metadata": {},
     "output_type": "execute_result"
    }
   ],
   "source": [
    "#np.linspace--used to generate linearly seperable points\n",
    "np.linspace(-1,10,5)"
   ]
  },
  {
   "cell_type": "code",
   "execution_count": 10,
   "id": "ebc262e0-f1d3-4675-845a-945ab8e6537d",
   "metadata": {},
   "outputs": [
    {
     "data": {
      "text/plain": [
       "array([[1., 0., 0.],\n",
       "       [0., 1., 0.],\n",
       "       [0., 0., 1.]])"
      ]
     },
     "execution_count": 10,
     "metadata": {},
     "output_type": "execute_result"
    }
   ],
   "source": [
    "#np.identity--used to generate identity matrix\n",
    "np.identity(3)"
   ]
  },
  {
   "cell_type": "code",
   "execution_count": 11,
   "id": "1fa6f660-d8d6-4400-abb1-26604ae022f1",
   "metadata": {},
   "outputs": [],
   "source": [
    "# Numpy attributes\n",
    "a1=np.arange(10)\n",
    "a2=np.arange(12,dtype=float).reshape(3,4)\n",
    "a3=np.arange(8).reshape(2,2,2)\n"
   ]
  },
  {
   "cell_type": "code",
   "execution_count": 16,
   "id": "526ddb2a-115a-4eea-989c-32bec5217976",
   "metadata": {},
   "outputs": [
    {
     "name": "stdout",
     "output_type": "stream",
     "text": [
      "1\n",
      "2\n",
      "3\n"
     ]
    }
   ],
   "source": [
    "#1) ndim attribute\n",
    "print(a1.ndim)\n",
    "print(a2.ndim)\n",
    "print(a3.ndim)"
   ]
  },
  {
   "cell_type": "code",
   "execution_count": 17,
   "id": "b91f7a10-3988-4315-a01b-0747e4d31401",
   "metadata": {},
   "outputs": [
    {
     "name": "stdout",
     "output_type": "stream",
     "text": [
      "(10,)\n",
      "(3, 4)\n",
      "(2, 2, 2)\n"
     ]
    }
   ],
   "source": [
    "#2) shape--gives no. of rows and columns\n",
    "print(a1.shape)\n",
    "print(a2.shape)\n",
    "print(a3.shape)"
   ]
  },
  {
   "cell_type": "code",
   "execution_count": 19,
   "id": "027e9a26-7fa9-4f48-9684-4a48e128e536",
   "metadata": {},
   "outputs": [
    {
     "name": "stdout",
     "output_type": "stream",
     "text": [
      "10\n",
      "12\n",
      "8\n"
     ]
    }
   ],
   "source": [
    "#3) size--- gives no of items\n",
    "print(a1.size)\n",
    "print(a2.size)\n",
    "print(a3.size)"
   ]
  },
  {
   "cell_type": "code",
   "execution_count": 21,
   "id": "334c2446-5bc2-40e8-85fa-99e9234e152a",
   "metadata": {},
   "outputs": [
    {
     "name": "stdout",
     "output_type": "stream",
     "text": [
      "4\n",
      "8\n",
      "8\n"
     ]
    }
   ],
   "source": [
    "#4)itemsize--gives item size\n",
    "print(a1.itemsize)\n",
    "print(a2.itemsize)\n",
    "print(a2.itemsize)"
   ]
  },
  {
   "cell_type": "code",
   "execution_count": 23,
   "id": "2e2f9d8b-ae58-4a5a-9948-8806be438d51",
   "metadata": {},
   "outputs": [
    {
     "name": "stdout",
     "output_type": "stream",
     "text": [
      "int32\n",
      "float64\n",
      "int32\n"
     ]
    }
   ],
   "source": [
    "#5) dtype---gives data type\n",
    "print(a1.dtype)\n",
    "print(a2.dtype)\n",
    "print(a3.dtype)"
   ]
  },
  {
   "cell_type": "code",
   "execution_count": 25,
   "id": "dc488686-61c0-4f15-a470-d08ae0e29edb",
   "metadata": {},
   "outputs": [
    {
     "data": {
      "text/plain": [
       "array([[[0, 1],\n",
       "        [2, 3]],\n",
       "\n",
       "       [[4, 5],\n",
       "        [6, 7]]])"
      ]
     },
     "execution_count": 25,
     "metadata": {},
     "output_type": "execute_result"
    }
   ],
   "source": [
    "#How to change datatype\n",
    "# astype is used to change datatype\n",
    "a3.astype(np.int32)"
   ]
  },
  {
   "cell_type": "code",
   "execution_count": 26,
   "id": "f1bdef9d-0d5c-4146-9e5a-d7b6a9c8e647",
   "metadata": {},
   "outputs": [],
   "source": [
    "# Array Operations\n",
    "\n",
    "a1=np.arange(12).reshape(3,4)\n",
    "a2=np.arange(12,24).reshape(3,4)"
   ]
  },
  {
   "cell_type": "code",
   "execution_count": 28,
   "id": "33b73c86-fd9c-4a07-bd5a-989ddba82598",
   "metadata": {},
   "outputs": [
    {
     "name": "stdout",
     "output_type": "stream",
     "text": [
      "[[ 0  1  2  3]\n",
      " [ 4  5  6  7]\n",
      " [ 8  9 10 11]]\n",
      "[[12 13 14 15]\n",
      " [16 17 18 19]\n",
      " [20 21 22 23]]\n"
     ]
    }
   ],
   "source": [
    "print(a1)\n",
    "print(a2)"
   ]
  },
  {
   "cell_type": "code",
   "execution_count": 31,
   "id": "a43a6c73-e7a8-445c-b9ac-5af79992f18e",
   "metadata": {},
   "outputs": [
    {
     "name": "stdout",
     "output_type": "stream",
     "text": [
      "[[ 2  3  4  5]\n",
      " [ 6  7  8  9]\n",
      " [10 11 12 13]]\n",
      "[[24 26 28 30]\n",
      " [32 34 36 38]\n",
      " [40 42 44 46]]\n",
      "[[0 1 0 1]\n",
      " [0 1 0 1]\n",
      " [0 1 0 1]]\n"
     ]
    }
   ],
   "source": [
    "# scalar operations(+,-,*,%,/,**)\n",
    "print(a1+2)\n",
    "print(a2*2)\n",
    "print(a1%2)"
   ]
  },
  {
   "cell_type": "code",
   "execution_count": 35,
   "id": "0864c26a-351f-4675-b28f-e180e63ddb52",
   "metadata": {},
   "outputs": [
    {
     "name": "stdout",
     "output_type": "stream",
     "text": [
      "[[False False False False]\n",
      " [ True  True  True  True]\n",
      " [ True  True  True  True]]\n",
      "[[ True False False False]\n",
      " [False False False False]\n",
      " [False False False False]]\n"
     ]
    }
   ],
   "source": [
    "# relational operators---checks with every elements\n",
    "print(a2>15)\n",
    "print(a1==0)"
   ]
  },
  {
   "cell_type": "code",
   "execution_count": 38,
   "id": "6ee0b084-5cae-4cb6-8bb8-3c4da5641a94",
   "metadata": {},
   "outputs": [
    {
     "name": "stdout",
     "output_type": "stream",
     "text": [
      "[[12 14 16 18]\n",
      " [20 22 24 26]\n",
      " [28 30 32 34]]\n",
      "[[         1         13        196       3375]\n",
      " [     65536    1419857   34012224  893871739]\n",
      " [-169803776 -288903179 -154967040 1328067399]]\n"
     ]
    }
   ],
   "source": [
    "# vector operations(+,-,*,%,/,**)(between two arrays)\n",
    "print(a1+a2)\n",
    "print(a2**a1)"
   ]
  },
  {
   "cell_type": "code",
   "execution_count": 40,
   "id": "b8a03614-1c63-4c67-88b9-dfc6c1b1d9d8",
   "metadata": {},
   "outputs": [
    {
     "data": {
      "text/plain": [
       "array([[64., 88.,  6.],\n",
       "       [11., 96., 73.],\n",
       "       [72., 38., 39.]])"
      ]
     },
     "execution_count": 40,
     "metadata": {},
     "output_type": "execute_result"
    }
   ],
   "source": [
    "# Array Functions\n",
    "a1=np.random.random((3,3))\n",
    "a1=np.round(a1*100)\n",
    "a1"
   ]
  },
  {
   "cell_type": "code",
   "execution_count": 42,
   "id": "308e8ac5-e8da-46ea-8b4a-33aa4d0b657d",
   "metadata": {},
   "outputs": [
    {
     "name": "stdout",
     "output_type": "stream",
     "text": [
      "96.0\n",
      "6.0\n",
      "487.0\n",
      "277959405993984.0\n"
     ]
    }
   ],
   "source": [
    "#1) max--gives maximum item in the array\n",
    "#2) min--gives manimum item in the array\n",
    "#3) sum--gives sum of item in the array\n",
    "#4) prod--gives product item in the array\n",
    "print(np.max(a1))\n",
    "print(np.min(a1))\n",
    "print(np.sum(a1))\n",
    "print(np.prod(a1))"
   ]
  },
  {
   "cell_type": "code",
   "execution_count": 50,
   "id": "38df8e28-b539-4756-b584-759c6eace662",
   "metadata": {},
   "outputs": [
    {
     "name": "stdout",
     "output_type": "stream",
     "text": [
      "[72. 96. 73.]\n",
      "[88. 96. 72.]\n"
     ]
    }
   ],
   "source": [
    "# min,max,sum,prod of array column wise(axis=0,1)\n",
    "# 0-->column ,1-->row\n",
    "print(np.max(a1,axis=0))  #column\n",
    "print(np.max(a1,axis=1))  #row"
   ]
  },
  {
   "cell_type": "code",
   "execution_count": 55,
   "id": "27229fea-8f78-435a-baed-c1592c303fec",
   "metadata": {},
   "outputs": [
    {
     "name": "stdout",
     "output_type": "stream",
     "text": [
      "[49.         74.         39.33333333]\n",
      "[64. 88. 39.]\n",
      "[27.06781607 25.66450207 27.35365099]\n",
      "[732.66666667 658.66666667 748.22222222]\n"
     ]
    }
   ],
   "source": [
    "# Statistical Functions--mean,median,std,var\n",
    "print(np.mean(a1,axis=0))\n",
    "print(np.median(a1,axis=0))\n",
    "print(np.std(a1,axis=0))\n",
    "print(np.var(a1,axis=0))"
   ]
  },
  {
   "cell_type": "code",
   "execution_count": 56,
   "id": "b5dda511-76d5-49f7-8d52-e1fab6fe4ff8",
   "metadata": {},
   "outputs": [
    {
     "data": {
      "text/plain": [
       "array([[ 0.92002604,  0.0353983 , -0.2794155 ],\n",
       "       [-0.99999021,  0.98358775, -0.67677196],\n",
       "       [ 0.25382336,  0.29636858,  0.96379539]])"
      ]
     },
     "execution_count": 56,
     "metadata": {},
     "output_type": "execute_result"
    }
   ],
   "source": [
    "# trigonometric functions\n",
    "np.sin(a1)"
   ]
  },
  {
   "cell_type": "code",
   "execution_count": 58,
   "id": "9aa454a0-3eed-431e-bebd-e313ef0c3848",
   "metadata": {},
   "outputs": [
    {
     "data": {
      "text/plain": [
       "array([[114, 120, 126],\n",
       "       [378, 400, 422],\n",
       "       [642, 680, 718]])"
      ]
     },
     "execution_count": 58,
     "metadata": {},
     "output_type": "execute_result"
    }
   ],
   "source": [
    "# dot product\n",
    "a2=np.arange(12).reshape(3,4)\n",
    "a3=np.arange(12,24).reshape(4,3)\n",
    "np.dot(a2,a3)"
   ]
  },
  {
   "cell_type": "code",
   "execution_count": 62,
   "id": "9a309217-b39b-447b-b4c5-b9b622eff7cb",
   "metadata": {},
   "outputs": [
    {
     "name": "stdout",
     "output_type": "stream",
     "text": [
      "[[4.15888308 4.47733681 1.79175947]\n",
      " [2.39789527 4.56434819 4.29045944]\n",
      " [4.27666612 3.63758616 3.66356165]]\n",
      "[[6.23514908e+27 1.65163625e+38 4.03428793e+02]\n",
      " [5.98741417e+04 4.92345829e+41 5.05239363e+31]\n",
      " [1.85867175e+31 3.18559318e+16 8.65934004e+16]]\n"
     ]
    }
   ],
   "source": [
    "# log and exponents\n",
    "print(np.log(a1))\n",
    "print(np.exp(a1))"
   ]
  },
  {
   "cell_type": "code",
   "execution_count": 72,
   "id": "20efd7d9-802d-48ef-a149-18bb15f3bf83",
   "metadata": {},
   "outputs": [
    {
     "name": "stdout",
     "output_type": "stream",
     "text": [
      "[0. 1. 2. 3. 4. 5. 6. 7. 8. 9.]\n",
      "[  0. 100. 200. 300. 400. 500. 600. 700. 800. 900.]\n",
      "[  0. 100. 200. 300. 400. 500. 600. 700. 800. 900.]\n",
      "[  0. 100. 200. 300. 400. 500. 600. 700. 800. 900.]\n"
     ]
    }
   ],
   "source": [
    "# round,floor,ceil\n",
    "a=np.arange(10,dtype=float)\n",
    "print(a)\n",
    "print(np.round(a*100))\n",
    "print(np.floor(a*100))\n",
    "print(np.ceil(a*100))"
   ]
  },
  {
   "cell_type": "code",
   "execution_count": 82,
   "id": "bcce25ca-3e52-4da8-93da-2c53e40b2744",
   "metadata": {},
   "outputs": [],
   "source": [
    "# Indexing and Slicing\n",
    "a1=np.arange(10)\n",
    "a2=np.arange(12).reshape(3,4)\n",
    "a3=np.arange(8).reshape(2,2,2)"
   ]
  },
  {
   "cell_type": "code",
   "execution_count": 86,
   "id": "e98519ba-edc5-40c6-84b2-1c5157d3c466",
   "metadata": {},
   "outputs": [
    {
     "name": "stdout",
     "output_type": "stream",
     "text": [
      "[0 1 2 3 4 5 6 7 8 9]\n",
      "0\n",
      "9\n"
     ]
    }
   ],
   "source": [
    "#Indexing\n",
    "print(a1)\n",
    "print(a1[0])\n",
    "print(a1[-1])"
   ]
  },
  {
   "cell_type": "code",
   "execution_count": 90,
   "id": "151fedb3-9363-4e92-937d-9f4a60f01503",
   "metadata": {},
   "outputs": [
    {
     "name": "stdout",
     "output_type": "stream",
     "text": [
      "[[ 0  1  2  3]\n",
      " [ 4  5  6  7]\n",
      " [ 8  9 10 11]]\n",
      "2\n",
      "7\n"
     ]
    }
   ],
   "source": [
    "print(a2)\n",
    "print(a2[0,2])\n",
    "print(a2[1,3])"
   ]
  },
  {
   "cell_type": "code",
   "execution_count": 94,
   "id": "1cee5098-5fb8-436f-ba74-4f9477b2f1a9",
   "metadata": {},
   "outputs": [
    {
     "name": "stdout",
     "output_type": "stream",
     "text": [
      "[[[0 1]\n",
      "  [2 3]]\n",
      "\n",
      " [[4 5]\n",
      "  [6 7]]]\n",
      "4\n",
      "6\n"
     ]
    }
   ],
   "source": [
    "print(a3)\n",
    "print(a3[1,0,0])\n",
    "print(a3[1,1,0])\n"
   ]
  },
  {
   "cell_type": "code",
   "execution_count": 96,
   "id": "fca66edc-0b84-4bab-ad77-c3a3406f806a",
   "metadata": {},
   "outputs": [
    {
     "name": "stdout",
     "output_type": "stream",
     "text": [
      "[0 1 2 3 4 5 6 7 8 9]\n",
      "[2. 3. 4.]\n"
     ]
    }
   ],
   "source": [
    "# Slicing\n",
    "print(a1)\n",
    "print(a[2:5])"
   ]
  },
  {
   "cell_type": "code",
   "execution_count": 140,
   "id": "b3592501-ece8-4347-bcf6-703635a3e376",
   "metadata": {},
   "outputs": [
    {
     "name": "stdout",
     "output_type": "stream",
     "text": [
      "[[ 0  1  2  3]\n",
      " [ 4  5  6  7]\n",
      " [ 8  9 10 11]]\n",
      "[0 1 2 3]\n",
      "[ 2  6 10]\n",
      "[[ 5  6]\n",
      " [ 9 10]]\n",
      "[[ 0  3]\n",
      " [ 8 11]]\n",
      "[[ 1  3]\n",
      " [ 9 11]]\n",
      "[[4 7]]\n",
      "[4 7]\n",
      "[[1 2 3]\n",
      " [5 6 7]]\n"
     ]
    }
   ],
   "source": [
    "print(a2)\n",
    "print(a2[0,:])\n",
    "print(a2[:,2])\n",
    "print(a2[1:,1:3])\n",
    "print(a2[::2,::3])\n",
    "print(a2[::2,1::2])\n",
    "print(a2[-2:2,::3])\n",
    "print(a2[1,::3])\n",
    "print(a2[0:2,1:4])"
   ]
  },
  {
   "cell_type": "code",
   "execution_count": 178,
   "id": "940466da-bb24-4f46-9541-a93ae7979c5b",
   "metadata": {},
   "outputs": [
    {
     "name": "stdout",
     "output_type": "stream",
     "text": [
      "[[[ 0  1  2]\n",
      "  [ 3  4  5]\n",
      "  [ 6  7  8]]\n",
      "\n",
      " [[ 9 10 11]\n",
      "  [12 13 14]\n",
      "  [15 16 17]]\n",
      "\n",
      " [[18 19 20]\n",
      "  [21 22 23]\n",
      "  [24 25 26]]]\n",
      "[[ 9 10 11]\n",
      " [12 13 14]\n",
      " [15 16 17]]\n",
      "[[[ 0  1  2]\n",
      "  [ 3  4  5]\n",
      "  [ 6  7  8]]\n",
      "\n",
      " [[18 19 20]\n",
      "  [21 22 23]\n",
      "  [24 25 26]]]\n",
      "[3 4 5]\n",
      "[10 13 16]\n",
      "[[22 23]\n",
      " [25 26]]\n",
      "[[ 0  2]\n",
      " [18 20]]\n"
     ]
    }
   ],
   "source": [
    "a3=np.arange(27).reshape(3,3,3)\n",
    "print(a3)\n",
    "print(a3[1])\n",
    "print(a3[::2])\n",
    "print(a3[0,1,:])\n",
    "print(a3[1,:,1])\n",
    "print(a3[2,1:3,1:3])\n",
    "print(a3[::2,0,::2])"
   ]
  },
  {
   "cell_type": "code",
   "execution_count": 182,
   "id": "cdb07cbb-f0e5-4488-97fa-e7ec345bdb2c",
   "metadata": {},
   "outputs": [
    {
     "name": "stdout",
     "output_type": "stream",
     "text": [
      "[0 1 2 3 4 5 6 7 8 9]\n",
      "0\n",
      "1\n",
      "2\n",
      "3\n",
      "4\n",
      "5\n",
      "6\n",
      "7\n",
      "8\n",
      "9\n"
     ]
    }
   ],
   "source": [
    "# Iterating\n",
    "print(a1)\n",
    "for i in a1:\n",
    "    print(i)\n"
   ]
  },
  {
   "cell_type": "code",
   "execution_count": 185,
   "id": "4c2be839-49ae-4aa8-9b25-17cdcad98ca6",
   "metadata": {},
   "outputs": [
    {
     "name": "stdout",
     "output_type": "stream",
     "text": [
      "[[ 0  1  2  3]\n",
      " [ 4  5  6  7]\n",
      " [ 8  9 10 11]]\n",
      "[0 1 2 3]\n",
      "[4 5 6 7]\n",
      "[ 8  9 10 11]\n"
     ]
    }
   ],
   "source": [
    "print(a2)\n",
    "for i in a2:\n",
    "    print(i)\n"
   ]
  },
  {
   "cell_type": "code",
   "execution_count": 187,
   "id": "c4ffb705-c21f-492e-bfcc-bb710f074e9d",
   "metadata": {},
   "outputs": [
    {
     "name": "stdout",
     "output_type": "stream",
     "text": [
      "[[[ 0  1  2]\n",
      "  [ 3  4  5]\n",
      "  [ 6  7  8]]\n",
      "\n",
      " [[ 9 10 11]\n",
      "  [12 13 14]\n",
      "  [15 16 17]]\n",
      "\n",
      " [[18 19 20]\n",
      "  [21 22 23]\n",
      "  [24 25 26]]]\n",
      "[[0 1 2]\n",
      " [3 4 5]\n",
      " [6 7 8]]\n",
      "[[ 9 10 11]\n",
      " [12 13 14]\n",
      " [15 16 17]]\n",
      "[[18 19 20]\n",
      " [21 22 23]\n",
      " [24 25 26]]\n",
      "0\n",
      "1\n",
      "2\n",
      "3\n",
      "4\n",
      "5\n",
      "6\n",
      "7\n",
      "8\n",
      "9\n",
      "10\n",
      "11\n",
      "12\n",
      "13\n",
      "14\n",
      "15\n",
      "16\n",
      "17\n",
      "18\n",
      "19\n",
      "20\n",
      "21\n",
      "22\n",
      "23\n",
      "24\n",
      "25\n",
      "26\n"
     ]
    }
   ],
   "source": [
    "print(a3)\n",
    "for i in a3:\n",
    "    print(i)\n",
    "for i in np.nditer(a3):  # to give each element\n",
    "    print(i)"
   ]
  },
  {
   "cell_type": "code",
   "execution_count": 192,
   "id": "8d76616c-2afc-4374-88c3-71278e8d4048",
   "metadata": {},
   "outputs": [
    {
     "name": "stdout",
     "output_type": "stream",
     "text": [
      "[[ 0  1  2  3]\n",
      " [ 4  5  6  7]\n",
      " [ 8  9 10 11]]\n",
      "[[ 0  4  8]\n",
      " [ 1  5  9]\n",
      " [ 2  6 10]\n",
      " [ 3  7 11]]\n",
      "[[ 0  4  8]\n",
      " [ 1  5  9]\n",
      " [ 2  6 10]\n",
      " [ 3  7 11]]\n"
     ]
    }
   ],
   "source": [
    "# Transpose- convert rows into columns and columns into rows\n",
    "print(a2)\n",
    "print(np.transpose(a2))  #first syntax\n",
    "print(a2.T)              # second syntax"
   ]
  },
  {
   "cell_type": "code",
   "execution_count": 195,
   "id": "b6764ab1-99cc-4983-8194-4768993b37e4",
   "metadata": {},
   "outputs": [
    {
     "name": "stdout",
     "output_type": "stream",
     "text": [
      "[[ 0  1  2  3]\n",
      " [ 4  5  6  7]\n",
      " [ 8  9 10 11]]\n",
      "[ 0  1  2  3  4  5  6  7  8  9 10 11]\n"
     ]
    }
   ],
   "source": [
    "# ravel --convert any dimension of array into one dimension\n",
    "print(a2)\n",
    "print(a2.ravel())"
   ]
  },
  {
   "cell_type": "code",
   "execution_count": 198,
   "id": "67d9af47-fe2f-4c5f-afd1-61ce7661ea06",
   "metadata": {},
   "outputs": [
    {
     "name": "stdout",
     "output_type": "stream",
     "text": [
      "[[ 0  1  2  3 12 13 14 15]\n",
      " [ 4  5  6  7 16 17 18 19]\n",
      " [ 8  9 10 11 20 21 22 23]]\n",
      "[[ 0  1  2  3]\n",
      " [ 4  5  6  7]\n",
      " [ 8  9 10 11]\n",
      " [12 13 14 15]\n",
      " [16 17 18 19]\n",
      " [20 21 22 23]]\n"
     ]
    }
   ],
   "source": [
    "#Stacking ---joining two arrays either horizontally(horizontal stacking) or vertical(vertical stacking)\n",
    "#condition shape should be same\n",
    "a4=np.arange(12).reshape(3,4)\n",
    "a5=np.arange(12,24).reshape(3,4)\n",
    "print(np.hstack((a4,a5)))   #horizontal stacking\n",
    "print(np.vstack((a4,a5)))   #vertical stacking"
   ]
  },
  {
   "cell_type": "code",
   "execution_count": 206,
   "id": "aca2749b-fd5d-4ff5-bf24-814fc8b93bdf",
   "metadata": {},
   "outputs": [
    {
     "name": "stdout",
     "output_type": "stream",
     "text": [
      "[array([[0, 1],\n",
      "       [4, 5],\n",
      "       [8, 9]]), array([[ 2,  3],\n",
      "       [ 6,  7],\n",
      "       [10, 11]])]\n",
      "[array([[0, 1, 2, 3]]), array([[4, 5, 6, 7]]), array([[ 8,  9, 10, 11]])]\n"
     ]
    }
   ],
   "source": [
    "#Splitting---split into equal arrays\n",
    "#horizontal spliting\n",
    "print(np.hsplit(a4,2))\n",
    "#verical splitting\n",
    "print(np.vsplit(a4,3))"
   ]
  },
  {
   "cell_type": "code",
   "execution_count": null,
   "id": "d54dae17-41e0-4c0e-9dd9-88b46b3cfd28",
   "metadata": {},
   "outputs": [],
   "source": []
  }
 ],
 "metadata": {
  "kernelspec": {
   "display_name": "Python 3 (ipykernel)",
   "language": "python",
   "name": "python3"
  },
  "language_info": {
   "codemirror_mode": {
    "name": "ipython",
    "version": 3
   },
   "file_extension": ".py",
   "mimetype": "text/x-python",
   "name": "python",
   "nbconvert_exporter": "python",
   "pygments_lexer": "ipython3",
   "version": "3.11.5"
  }
 },
 "nbformat": 4,
 "nbformat_minor": 5
}
